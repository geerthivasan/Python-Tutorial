{
 "cells": [
  {
   "cell_type": "code",
   "execution_count": 2,
   "metadata": {
    "collapsed": false
   },
   "outputs": [],
   "source": [
    "import requests"
   ]
  },
  {
   "cell_type": "code",
   "execution_count": 6,
   "metadata": {
    "collapsed": false
   },
   "outputs": [],
   "source": [
    "test = requests.get(\"http://www.hipstercode.com\")"
   ]
  },
  {
   "cell_type": "code",
   "execution_count": 8,
   "metadata": {
    "collapsed": false
   },
   "outputs": [
    {
     "name": "stdout",
     "output_type": "stream",
     "text": [
      "<class 'requests.models.Response'>\n"
     ]
    }
   ],
   "source": [
    "print(type(test))"
   ]
  },
  {
   "cell_type": "code",
   "execution_count": 9,
   "metadata": {
    "collapsed": false
   },
   "outputs": [
    {
     "name": "stdout",
     "output_type": "stream",
     "text": [
      "<Response [200]>\n"
     ]
    }
   ],
   "source": [
    "print(test)"
   ]
  },
  {
   "cell_type": "code",
   "execution_count": 10,
   "metadata": {
    "collapsed": false
   },
   "outputs": [
    {
     "data": {
      "text/plain": [
       "'\\ufeff\\n<!DOCTYPE html>\\n<html amp lang=\"en\">\\n\\n<head>\\n\\n    <meta charset=\"utf-8\">\\n    <meta http-equiv=\"X-UA-Compatible\" content=\"IE=edge\">\\n    <meta name=\"viewport\" content=\"width=device-width, initial-scale=1\">\\n    \\n<meta name=\"description\" content=\"FREE online programmer training from beginner to advanced courses. Keep up to date with the latest programming news, tutorials and information.\">\\n<link rel=\"canonical\" href=\"https://www.hipstercode.com/\" />\\n<link rel=\"amphtml\" href=\"https://www.hipstercode.com/\">\\n\\n    <meta name=\"robots\" content=\"index, follow\">\\n    <meta property=\"og:image\" content=\"/static/img/header-bg.jpg\"/>\\n    <link rel=\"icon\" href=\"/static/img/logo1.ico\" type=\"image/x-icon\" />\\n    \\n    <title>Home</title>\\n\\n    <!-- Bootstrap Core CSS -->\\n    <link href=\"/static/css/bootstrap.min.css\" rel=\"stylesheet\">\\n\\n    <!-- Custom CSS -->\\n    <link href=\"/static/css/agency1.css\" rel=\"stylesheet\">\\n\\n    <!-- Custom Fonts -->\\n    <link href=\"/static/css/font-awesome.min.css\" rel=\"stylesheet\" type=\"text/css\">\\n    <link href=\"https://fonts.googleapis.com/css?family=Montserrat:400,700\" rel=\"stylesheet\" type=\"text/css\">\\n    <link href=\\'https://fonts.googleapis.com/css?family=Kaushan+Script\\' rel=\\'stylesheet\\' type=\\'text/css\\'>\\n    <link href=\\'https://fonts.googleapis.com/css?family=Droid+Serif:400,700,400italic,700italic\\' rel=\\'stylesheet\\' type=\\'text/css\\'>\\n    <link href=\\'https://fonts.googleapis.com/css?family=Roboto+Slab:400,100,300,700\\' rel=\\'stylesheet\\' type=\\'text/css\\'>\\n\\n    <!-- HTML5 Shim and Respond.js IE8 support of HTML5 elements and media queries -->\\n    <!-- WARNING: Respond.js doesn\\'t work if you view the page via file:// -->\\n    <!--[if lt IE 9]>\\n        <script src=\"https://oss.maxcdn.com/libs/html5shiv/3.7.0/html5shiv.js\"></script>\\n        <script src=\"https://oss.maxcdn.com/libs/respond.js/1.4.2/respond.min.js\"></script>\\n    <![endif]-->\\n    <script>\\n  (function(i,s,o,g,r,a,m){i[\\'GoogleAnalyticsObject\\']=r;i[r]=i[r]||function(){\\n  (i[r].q=i[r].q||[]).push(arguments)},i[r].l=1*new Date();a=s.createElement(o),\\n  m=s.getElementsByTagName(o)[0];a.async=1;a.src=g;m.parentNode.insertBefore(a,m)\\n  })(window,document,\\'script\\',\\'https://www.google-analytics.com/analytics.js\\',\\'ga\\');\\n\\n  ga(\\'create\\', \\'UA-77762958-1\\', \\'auto\\');\\n  ga(\\'send\\', \\'pageview\\');\\n</script>\\n<meta name=\"google-site-verification\" content=\"LMoF0tsRv_rWeU8birCDUTmkdywQCbNeDlYeWwRfQWI\" />\\n<script async src=\"//pagead2.googlesyndication.com/pagead/js/adsbygoogle.js\"></script>\\n<script>\\n  (adsbygoogle = window.adsbygoogle || []).push({\\n    google_ad_client: \"ca-pub-8990144480776862\",\\n    enable_page_level_ads: true\\n  });\\n</script>\\n<style>\\n#portfolio .portfolio-item .portfolio-caption p {\\n    overflow: hidden;\\n}\\n</style>\\n    \\n    <meta name=\"google-site-verification\" content=\"d6qw22UurnudY4QErk2jRqX1Bqc05Y8u18761sJ5ZIo\" />\\n\\n    <style>\\n        .pricing-dark-section {\\n            border-top: 1px solid #EAEAEA;\\n            border-bottom: 1px solid #EAEAEA;\\n            background: #222;\\n            background: -webkit-linear-gradient(top, #222 0, #222 100%);\\n            background: -moz-linear-gradient(top, #222 0, #222 100%);\\n            background: -o-linear-gradient(top, #222 0, #222 100%);\\n            background: linear-gradient(top, #222 0, #222 100%);\\n            margin-top: 120px;\\n            padding-top: 45px;\\n            padding-bottom: 70px;\\n        }\\n\\n        .pricing-dark-section .header h3 {\\n            font-size: 27px;\\n            color: #fff;\\n            line-height: 25px;\\n            font-weight: 400;\\n            text-shadow: 0 1px 2px rgba(0, 0, 0, 0.2);\\n        }\\n\\n        .pricing-dark-section .charts {\\n            margin-top: 35px;\\n        }\\n\\n        .pricing-dark-section .charts .chart.first {\\n            float: right;\\n        }\\n\\n        .pricing-dark-section .charts .chart .quantity {\\n            text-align: center;\\n        }\\n\\n        .pricing-dark-section .charts .chart .plan-name {\\n            text-align: center;\\n            font-size: 40px;\\n            font-weight: 400;\\n            color: #777;\\n            border-bottom: 1px solid #d5d5d5;\\n            padding-bottom: 15px;\\n            width: 90%;\\n            margin: 0 auto;\\n            margin-top: 8px;\\n        }\\n\\n        .pricing-dark-section .charts .chart.first {\\n            float: right;\\n        }\\n\\n        .pricing-dark-section .charts .chart {\\n            background-color: #fff;\\n            border: 1px solid #E6E6E6;\\n            border-radius: 5px;\\n            box-shadow: 0px 0px 2px 0px rgba(181, 181, 181, 0.3);\\n            padding: 20px 40px;\\n            position: relative;\\n            text-align: center;\\n            width: 100%;\\n            min-height: 315px;\\n            position: relative;\\n            top: 37px;\\n        }\\n\\n        .pricing-dark-section .charts .chart .specs {\\n            margin-top: 20px;\\n        }\\n\\n        .pricing-dark-section .charts .chart .specs .spec {\\n            font-size: 30px;\\n            color: #353535;\\n            text-align: center;\\n            font-weight: 300;\\n            margin-bottom: 13px;\\n        }\\n\\n        .pricing-dark-section .charts .chart .specs .spec .variable {\\n            color: #1FBEE7;\\n            font-weight: 400;\\n        }\\n\\n        .col-md-6.portfolio-item {\\n            margin-bottom: 20px;\\n            margin-top: 20px;\\n            height: 400px;\\n            overflow: hidden;\\n        }\\n\\n        img.img-responsive {\\n            width: auto;\\n            margin: 0 auto;\\n            height: 300px;\\n        }\\n\\n        h3 {\\n            text-align: center;\\n        }\\n\\n        .page-header {\\n            padding-bottom: 9px;\\n            text-align: center;\\n            border-bottom: 1px solid #eee;\\n            margin: 0;\\n        }\\n\\n        @media (min-width: 768px) {\\n            section {\\n                padding: 20px;\\n            }\\n        }\\n\\n    .fancy-title {\\n        font-family: \\'Noto Serif\\', serif;\\n        font-style: italic;\\n    }\\n\\n    header {\\n        background-image: url(/static/img/main_header.jpg); \\n    }\\n\\n    </style>\\n\\n\\n\\n\\n</head>\\n\\n<body id=\"page-top\" class=\"index\">\\n\\n    <!-- Navigation -->\\n    <nav class=\"navbar navbar-default navbar-fixed-top\">\\n        <div class=\"container\">\\n            <!-- Brand and toggle get grouped for better mobile display -->\\n            <div class=\"navbar-header page-scroll\">\\n                <button type=\"button\" class=\"navbar-toggle\" data-toggle=\"collapse\" data-target=\"#bs-example-navbar-collapse-1\">\\n                    <span class=\"sr-only\">Toggle navigation</span>\\n                    <span class=\"icon-bar\"></span>\\n                    <span class=\"icon-bar\"></span>\\n                    <span class=\"icon-bar\"></span>\\n                </button>\\n                <a class=\"navbar-brand page-scroll\" href=\"/\"><img src=\"/static/img/medium.png\" class=\"logo\" alt=\"HipsterCode\" /></a>\\n            </div>\\n\\n            <!-- Collect the nav links, forms, and other content for toggling -->\\n            <div class=\"collapse navbar-collapse\" id=\"bs-example-navbar-collapse-1\">\\n                <ul class=\"nav navbar-nav navbar-right\">\\n                    <li class=\"hidden\">\\n                        <a href=\"#page-top\"></a>\\n                    </li>\\n                    <li>\\n                        <a class=\"page-scroll\" href=\"/\">Home</a>\\n                    </li>\\n                    <li>\\n                        <a class=\"page-scroll\" href=\"/press/software_news/\">Software News</a>\\n                    </li>\\n                    <li>\\n                        <a class=\"page-scroll\" href=\"/tutorial/tutorials/\">Tutorials</a>\\n                    </li>\\n                    <li>\\n                        <a class=\"page-scroll\" href=\"/blog/blog/\">Blog</a>\\n                    </li>\\n                    <li>\\n                        <a class=\"page-scroll\" href=\"/pricing/\">Pricing</a>\\n                    </li>\\n                    \\n                      <li>\\n                          <a class=\"page-scroll\" href=\"/login/\">Log In</a>\\n                      </li>\\n                      <li>\\n                          <a class=\"page-scroll\" href=\"/accounts/register/\">Register</a>\\n                      </li>\\n                    \\n                </ul>\\n            </div>\\n            <!-- /.navbar-collapse -->\\n        </div>\\n        <!-- /.container-fluid -->\\n    </nav>\\n\\n    \\n    <header>\\n        <div class=\"container\">\\n            <div class=\"intro-text\">\\n                <div class=\"intro-heading\">The Best Source for Coders</div>\\n            </div>\\n        </div>\\n    </header>\\n    <section id=\"portfolio\">\\n\\n        <div class=\"container text-center\">\\n            <script async src=\"//pagead2.googlesyndication.com/pagead/js/adsbygoogle.js\"></script>\\n            <!-- responsive -->\\n            <ins class=\"adsbygoogle\"\\n                style=\"display:block\"\\n                data-ad-client=\"ca-pub-8990144480776862\"\\n                data-ad-slot=\"2824428887\"\\n                data-ad-format=\"auto\"></ins>\\n            <script>\\n                (adsbygoogle = window.adsbygoogle || []).push({});\\n            </script>\\n        </div>\\n\\n        <div class=\"container\">\\n            <div class=\"row\">\\n                <h2 class=\"fancy-title\">Tutorials</h2>\\n                <hr>\\n                \\n                \\n                    <div class=\"col-md-4 col-sm-6 portfolio-item\">\\n                        <a href=\"/tutorial/57/\" class=\"portfolio-link\">\\n                            <div class=\"portfolio-hover\">\\n                                <div class=\"portfolio-hover-content\">\\n                                    <i class=\"fa fa-plus fa-3x\"></i>\\n                                </div>\\n                            </div>\\n                            <img src=\"https://img.youtube.com/vi/_VqP9iOF4JI/0.jpg\" class=\"img-responsive\" alt=\"\">\\n                        </a>\\n                        <div class=\"portfolio-caption\">\\n                            <h4>Node with ES6 for Beginners</h4>\\n                            <p class=\"text-muted\">Node with ES6 for Beginners is a multi-part series which examines what node is and how it\\'s used to write ...</p>\\n                        </div>\\n                    </div>\\n                \\n                    <div class=\"col-md-4 col-sm-6 portfolio-item\">\\n                        <a href=\"/tutorial/32/\" class=\"portfolio-link\">\\n                            <div class=\"portfolio-hover\">\\n                                <div class=\"portfolio-hover-content\">\\n                                    <i class=\"fa fa-plus fa-3x\"></i>\\n                                </div>\\n                            </div>\\n                            <img src=\"https://img.youtube.com/vi/CfbDxoRFByY/0.jpg\" class=\"img-responsive\" alt=\"\">\\n                        </a>\\n                        <div class=\"portfolio-caption\">\\n                            <h4>Beginning Django 1.9</h4>\\n                            <p class=\"text-muted\"><p>This Django Tutorial Series covers the basics of how the Django Web Framework works. In the process we will build ...</p>\\n                        </div>\\n                    </div>\\n                \\n                    <div class=\"col-md-4 col-sm-6 portfolio-item\">\\n                        <a href=\"/tutorial/33/\" class=\"portfolio-link\">\\n                            <div class=\"portfolio-hover\">\\n                                <div class=\"portfolio-hover-content\">\\n                                    <i class=\"fa fa-plus fa-3x\"></i>\\n                                </div>\\n                            </div>\\n                            <img src=\"https://img.youtube.com/vi/IZj8hLrkABs/0.jpg\" class=\"img-responsive\" alt=\"\">\\n                        </a>\\n                        <div class=\"portfolio-caption\">\\n                            <h4>Python For Beginners</h4>\\n                            <p class=\"text-muted\">The best introduction Python Tutorial Series on the web! This series starts out fast and never looks back. You\\'ll learn ...</p>\\n                        </div>\\n                    </div>\\n                \\n                    <div class=\"col-md-4 col-sm-6 portfolio-item\">\\n                        <a href=\"/tutorial/56/\" class=\"portfolio-link\">\\n                            <div class=\"portfolio-hover\">\\n                                <div class=\"portfolio-hover-content\">\\n                                    <i class=\"fa fa-plus fa-3x\"></i>\\n                                </div>\\n                            </div>\\n                            <img src=\"https://img.youtube.com/vi/Axh8rNKgvmk/0.jpg\" class=\"img-responsive\" alt=\"\">\\n                        </a>\\n                        <div class=\"portfolio-caption\">\\n                            <h4>Django for Beginners</h4>\\n                            <p class=\"text-muted\">A beginner tutorial series aimed at getting you off the ground with Django quickly.</p>\\n                        </div>\\n                    </div>\\n                \\n                    <div class=\"col-md-4 col-sm-6 portfolio-item\">\\n                        <a href=\"/tutorial/54/\" class=\"portfolio-link\">\\n                            <div class=\"portfolio-hover\">\\n                                <div class=\"portfolio-hover-content\">\\n                                    <i class=\"fa fa-plus fa-3x\"></i>\\n                                </div>\\n                            </div>\\n                            <img src=\"https://img.youtube.com/vi/sPyb6QlgBaU/0.jpg\" class=\"img-responsive\" alt=\"\">\\n                        </a>\\n                        <div class=\"portfolio-caption\">\\n                            <h4>Unit Testing With Mocha For Beginners</h4>\\n                            <p class=\"text-muted\">A straight to the point introduction to using Mocha to write unit tests for a JavaScript application. This is a ...</p>\\n                        </div>\\n                    </div>\\n                \\n                    <div class=\"col-md-4 col-sm-6 portfolio-item\">\\n                        <a href=\"/tutorial/49/\" class=\"portfolio-link\">\\n                            <div class=\"portfolio-hover\">\\n                                <div class=\"portfolio-hover-content\">\\n                                    <i class=\"fa fa-plus fa-3x\"></i>\\n                                </div>\\n                            </div>\\n                            <img src=\"https://img.youtube.com/vi/w5TupxbnnrM/0.jpg\" class=\"img-responsive\" alt=\"\">\\n                        </a>\\n                        <div class=\"portfolio-caption\">\\n                            <h4>Getting Started With React, Babel and Webpack</h4>\\n                            <p class=\"text-muted\">Things change in the JavaScript world so fast nowadays. I feel this video is relatively future proof going into 2017 ...</p>\\n                        </div>\\n                    </div>\\n                \\n                    <div class=\"col-md-4 col-sm-6 portfolio-item\">\\n                        <a href=\"/tutorial/53/\" class=\"portfolio-link\">\\n                            <div class=\"portfolio-hover\">\\n                                <div class=\"portfolio-hover-content\">\\n                                    <i class=\"fa fa-plus fa-3x\"></i>\\n                                </div>\\n                            </div>\\n                            <img src=\"https://img.youtube.com/vi/9FC7CFhBWNE/0.jpg\" class=\"img-responsive\" alt=\"\">\\n                        </a>\\n                        <div class=\"portfolio-caption\">\\n                            <h4>Elixir For Beginners</h4>\\n                            <p class=\"text-muted\">In this Elixir tutorial series I\\'m basically scratching the surface with understanding the Elixir syntax well enough to use Elixir ...</p>\\n                        </div>\\n                    </div>\\n                \\n                    <div class=\"col-md-4 col-sm-6 portfolio-item\">\\n                        <a href=\"/tutorial/52/\" class=\"portfolio-link\">\\n                            <div class=\"portfolio-hover\">\\n                                <div class=\"portfolio-hover-content\">\\n                                    <i class=\"fa fa-plus fa-3x\"></i>\\n                                </div>\\n                            </div>\\n                            <img src=\"https://img.youtube.com/vi/jqtNVgecVvo/0.jpg\" class=\"img-responsive\" alt=\"\">\\n                        </a>\\n                        <div class=\"portfolio-caption\">\\n                            <h4>ES6 Tutorial</h4>\\n                            <p class=\"text-muted\"><p>In this new series we are looking at the latest standard of JavaScript called ES6. In order to get up ...</p>\\n                        </div>\\n                    </div>\\n                \\n                    <div class=\"col-md-4 col-sm-6 portfolio-item\">\\n                        <a href=\"/tutorial/51/\" class=\"portfolio-link\">\\n                            <div class=\"portfolio-hover\">\\n                                <div class=\"portfolio-hover-content\">\\n                                    <i class=\"fa fa-plus fa-3x\"></i>\\n                                </div>\\n                            </div>\\n                            <img src=\"https://img.youtube.com/vi/0Fa__x5dAkU/0.jpg\" class=\"img-responsive\" alt=\"\">\\n                        </a>\\n                        <div class=\"portfolio-caption\">\\n                            <h4>Getting Started With Babel</h4>\\n                            <p class=\"text-muted\">In this video we will focus on getting started with Babel the right way. The goal is to understand how ...</p>\\n                        </div>\\n                    </div>\\n                \\n            </div>\\n        </div>\\n\\n        <div class=\"container text-center\">\\n                <script async src=\"//pagead2.googlesyndication.com/pagead/js/adsbygoogle.js\"></script>\\n                <!-- responsive -->\\n                <ins class=\"adsbygoogle\"\\n                    style=\"display:block\"\\n                    data-ad-client=\"ca-pub-8990144480776862\"\\n                    data-ad-slot=\"2824428887\"\\n                    data-ad-format=\"auto\"></ins>\\n                <script>\\n                    (adsbygoogle = window.adsbygoogle || []).push({});\\n                </script>\\n            </div>\\n    </section>\\n\\n\\n    <footer>\\n        <div class=\"container\">\\n            <div class=\"row\">\\n                <div class=\"col-md-4\">\\n                    <div class=\"row\">\\n                    </div>\\n                    <div class=\"row\">\\n                        <span class=\"copyright\">Copyright &copy; 2017 | Noob Media LLC | All Rights Reserved</span>\\n                    </div>\\n                </div>\\n                <div class=\"col-md-4\">\\n                    <ul class=\"list-inline social-buttons\">\\n                        <li><a href=\"https://twitter.com/realchrishawkes\"><i class=\"fa fa-twitter\"></i></a>\\n                        </li>\\n                        <li><a href=\"https://www.youtube.com/user/noobtoprofessional\"><i class=\"fa fa-youtube\"></i></a>\\n                        </li>\\n                        <li><a href=\"https://www.instagram.com/officialhipstercode/\"><i class=\"fa fa-instagram\"></i></a>\\n                        </li>\\n                        <li><a href=\"https://www.linkedin.com/in/christopher-hawkes-130aa835\"><i class=\"fa fa-linkedin\"></i></a>\\n                        </li>\\n                    </ul>\\n                </div>\\n                <div class=\"col-md-4\">\\n                    <ul class=\"list-inline quicklinks\">\\n                        <li><a href=\"/privacy\">Privacy Policy</a>\\n                        </li>\\n                        <li><a href=\"https://www.amazon.com/b?_encoding=UTF8&tag=noobmusiccom-20&linkCode=ur2&linkId=22c38f15da575a8e59173ded302b1ce5&camp=1789&creative=9325&node=13900871\">Affiliate</a>\\n                        </li>\\n                        <li><a href=\"/terms\">Terms of Use</a>\\n                        </li>\\n                        <li><a href=\"/copyright\">Copyright</a>\\n                        </li>\\n                        <li><a href=\"/about\">About Us</a>\\n                        </li>\\n                        <li><a href=\"/contact\">Contact Us</a>\\n                        </li>\\n                    </ul>\\n                </div>\\n            </div>\\n        </div>\\n    </footer>\\n\\n    <!-- Portfolio Modals -->\\n    <!-- Use the modals below to showcase details about your portfolio projects! -->\\n\\n    <!-- jQuery -->\\n    <script src=\"/static/js/jquery.js\"></script>\\n\\n    <!-- Bootstrap Core JavaScript -->\\n    <script src=\"/static/js/bootstrap.min.js\"></script>\\n\\n    <!-- Plugin JavaScript -->\\n    <script src=\"https://cdnjs.cloudflare.com/ajax/libs/jquery-easing/1.3/jquery.easing.min.js\"></script>\\n    <script src=\"/static/js/classie.js\"></script>\\n    <script src=\"/static/js/cbpAnimatedHeader.js\"></script>\\n\\n    <!-- Contact Form JavaScript -->\\n    <script src=\"/static/js/jqBootstrapValidation.js\"></script>\\n    <script src=\"/static/js/contact_me.js\"></script>\\n\\n    <!-- Custom Theme JavaScript -->\\n    <script src=\"/static/js/agency.js\"></script>\\n\\n    \\n\\n    \\n\\n</body>\\n\\n</html>\\n'"
      ]
     },
     "execution_count": 10,
     "metadata": {},
     "output_type": "execute_result"
    }
   ],
   "source": [
    "test.text"
   ]
  },
  {
   "cell_type": "code",
   "execution_count": 16,
   "metadata": {
    "collapsed": false
   },
   "outputs": [
    {
     "data": {
      "text/plain": [
       "{'Vary': 'Cookie,Accept-Encoding', 'Date': 'Fri, 03 Nov 2017 14:00:05 GMT', 'Server': 'nginx/1.4.6 (Ubuntu)', 'Content-Type': 'text/html; charset=utf-8', 'Connection': 'keep-alive', 'X-Frame-Options': 'SAMEORIGIN', 'Content-Length': '4413', 'Content-Encoding': 'gzip'}"
      ]
     },
     "execution_count": 16,
     "metadata": {},
     "output_type": "execute_result"
    }
   ],
   "source": [
    "test.headers"
   ]
  },
  {
   "cell_type": "code",
   "execution_count": 17,
   "metadata": {
    "collapsed": false
   },
   "outputs": [
    {
     "data": {
      "text/plain": [
       "'Cookie,Accept-Encoding'"
      ]
     },
     "execution_count": 17,
     "metadata": {},
     "output_type": "execute_result"
    }
   ],
   "source": [
    "test.headers['Vary']"
   ]
  },
  {
   "cell_type": "code",
   "execution_count": 18,
   "metadata": {
    "collapsed": false
   },
   "outputs": [
    {
     "data": {
      "text/plain": [
       "'utf-8'"
      ]
     },
     "execution_count": 18,
     "metadata": {},
     "output_type": "execute_result"
    }
   ],
   "source": [
    "test.encoding"
   ]
  },
  {
   "cell_type": "code",
   "execution_count": null,
   "metadata": {
    "collapsed": true
   },
   "outputs": [],
   "source": []
  }
 ],
 "metadata": {
  "anaconda-cloud": {},
  "kernelspec": {
   "display_name": "Python [default]",
   "language": "python",
   "name": "python3"
  },
  "language_info": {
   "codemirror_mode": {
    "name": "ipython",
    "version": 3
   },
   "file_extension": ".py",
   "mimetype": "text/x-python",
   "name": "python",
   "nbconvert_exporter": "python",
   "pygments_lexer": "ipython3",
   "version": "3.5.4"
  }
 },
 "nbformat": 4,
 "nbformat_minor": 1
}
