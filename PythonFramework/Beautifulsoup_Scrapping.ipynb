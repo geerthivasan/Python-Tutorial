{
 "cells": [
  {
   "cell_type": "code",
   "execution_count": 1,
   "metadata": {
    "collapsed": true
   },
   "outputs": [],
   "source": [
    "from urllib.request import urlopen as uReq"
   ]
  },
  {
   "cell_type": "code",
   "execution_count": 2,
   "metadata": {
    "collapsed": true
   },
   "outputs": [],
   "source": [
    "from bs4 import BeautifulSoup as soup"
   ]
  },
  {
   "cell_type": "code",
   "execution_count": 4,
   "metadata": {
    "collapsed": false
   },
   "outputs": [],
   "source": [
    "my_url = 'https://www.newegg.com/Product/ProductList.aspx?Submit=ENE&DEPA=0&Order=BESTMATCH&Description=graphic+card&N=-1&isNodeId=1'"
   ]
  },
  {
   "cell_type": "code",
   "execution_count": 5,
   "metadata": {
    "collapsed": true
   },
   "outputs": [],
   "source": [
    "uClient = uReq(my_url)"
   ]
  },
  {
   "cell_type": "code",
   "execution_count": 6,
   "metadata": {
    "collapsed": true
   },
   "outputs": [],
   "source": [
    "page_html = uClient.read()"
   ]
  },
  {
   "cell_type": "code",
   "execution_count": 7,
   "metadata": {
    "collapsed": true
   },
   "outputs": [],
   "source": [
    "uClient.close()"
   ]
  },
  {
   "cell_type": "code",
   "execution_count": 8,
   "metadata": {
    "collapsed": true
   },
   "outputs": [],
   "source": [
    "page_soup = soup(page_html, \"html.parser\")"
   ]
  },
  {
   "cell_type": "code",
   "execution_count": 9,
   "metadata": {
    "collapsed": false
   },
   "outputs": [
    {
     "data": {
      "text/plain": [
       "<h1 class=\"page-title-text\">\"graphic card\"</h1>"
      ]
     },
     "execution_count": 9,
     "metadata": {},
     "output_type": "execute_result"
    }
   ],
   "source": [
    "page_soup.h1"
   ]
  },
  {
   "cell_type": "code",
   "execution_count": 10,
   "metadata": {
    "collapsed": true
   },
   "outputs": [],
   "source": [
    "containers = page_soup.findAll(\"div\",{\"class\":\"item-container\"})"
   ]
  },
  {
   "cell_type": "code",
   "execution_count": 11,
   "metadata": {
    "collapsed": false
   },
   "outputs": [
    {
     "data": {
      "text/plain": [
       "36"
      ]
     },
     "execution_count": 11,
     "metadata": {},
     "output_type": "execute_result"
    }
   ],
   "source": [
    "len(containers)"
   ]
  },
  {
   "cell_type": "code",
   "execution_count": 13,
   "metadata": {
    "collapsed": false
   },
   "outputs": [
    {
     "data": {
      "text/plain": [
       "4"
      ]
     },
     "execution_count": 13,
     "metadata": {},
     "output_type": "execute_result"
    }
   ],
   "source": [
    "2+2"
   ]
  },
  {
   "cell_type": "code",
   "execution_count": 19,
   "metadata": {
    "collapsed": false
   },
   "outputs": [],
   "source": [
    "container = containers[0]"
   ]
  },
  {
   "cell_type": "code",
   "execution_count": 33,
   "metadata": {
    "collapsed": false
   },
   "outputs": [
    {
     "name": "stdout",
     "output_type": "stream",
     "text": [
      "Brand:MSI\n",
      "Product Name:MSI Radeon RX 580 DirectX 12 RX 580 GAMING X 8G 8GB 256-Bit GDDR5 PCI Express 3.0 x16 HDCP Ready CrossFireX Support Video Card\n",
      "Shipping$4.99 Shipping\n",
      "Brand:MSI\n",
      "Product Name:MSI GeForce GTX 1060 DirectX 12 GTX 1060 GAMING X 6G 6GB 192-Bit GDDR5 PCI Express 3.0 x16 HDCP Ready ATX Video Card\n",
      "Shipping$4.99 Shipping\n",
      "Brand:GIGABYTE\n",
      "Product Name:GIGABYTE GeForce GTX 1060 DirectX 12 GV-N1060WF2OC-3GD 3GB 192-Bit GDDR5 PCI Express 3.0 x16 ATX Video Card\n",
      "Shipping$4.99 Shipping\n",
      "Brand:EVGA\n",
      "Product Name:EVGA GeForce GTX 1080 Ti DirectX 12 11G-P4-6798-KR 11GB 352-Bit GDDR5X PCI Express 3.0 HDCP Ready SLI Support Video Card - K|NGP|N GAMING\n",
      "Shipping$4.99 Shipping\n",
      "Brand:MSI\n",
      "Product Name:MSI GeForce GTX 1080 DirectX 12 GTX 1080 DUKE 8G OC 8GB 256-Bit GDDR5X PCI Express 3.0 x16 HDCP Ready SLI Support Video Cards\n",
      "Shipping$4.99 Shipping\n",
      "Brand:GIGABYTE\n",
      "Product Name:GIGABYTE Radeon RX 550 DirectX 12 GV-RX550D5-2GD 2GB 128-Bit GDDR5 PCI Express 3.0 x16 ATX Video Card\n",
      "Shipping$3.99 Shipping\n",
      "Brand:GIGABYTE\n",
      "Product Name:GIGABYTE Radeon RX Vega 56 DirectX 12 GV-RXVEGA56-8GD-B 8GB 2048-Bit HBM2 PCI Express 3.0 x16 CrossFireX Support ATX Video Card\n",
      "Shipping$4.99 Shipping\n",
      "Brand:MSI\n",
      "Product Name:MSI GeForce GTX 1080 Ti DirectX 12 GTX 1080 Ti SEA HAWK EK X 11GB 352-Bit GDDR5X PCI Express 3.0 x16 HDCP Ready SLI Support Video Card\n",
      "Shipping$4.99 Shipping\n",
      "Brand:ASUS\n",
      "Product Name:ASUS ROG GeForce GTX 1070 STRIX-GTX1070-O8G-GAMING 8GB 256-Bit GDDR5 PCI Express 3.0 HDCP Ready Video Card with RGB Lighting\n",
      "Shipping$4.99 Shipping\n",
      "Brand:MSI\n",
      "Product Name:MSI GeForce GTX 1080 DirectX 12 GTX 1080 ARMOR 8G OC 8GB 256-Bit GDDR5X PCI Express 3.0 x16 HDCP Ready SLI Support ATX Video Card\n",
      "Shipping$3.99 Shipping\n",
      "Brand:MSI\n",
      "Product Name:MSI GeForce GTX 1080 DirectX 12 GTX 1080 GAMING X 8G 8GB 256-Bit GDDR5X PCI Express 3.0 x16 HDCP Ready SLI Support ATX Video Card\n",
      "Shipping$4.99 Shipping\n",
      "Brand:MSI\n",
      "Product Name:MSI GeForce GTX 1050 Ti DirectX 12 GTX 1050 Ti GAMING X 4G 4GB 128-Bit GDDR5 PCI Express 3.0 x16 HDCP Ready ATX Video Card\n",
      "Shipping$3.99 Shipping\n",
      "Brand:PowerColor\n",
      "Product Name:PowerColor RED DEVIL Radeon RX 580 DirectX 12 AXRX 580 8GBD5-3DH/OC 8GB 256-Bit GDDR5 PCI Express 3.0 CrossFireX Support ATX Video Card\n",
      "Shipping$4.99 Shipping\n",
      "Brand:GIGABYTE\n",
      "Product Name:GIGABYTE AORUS GeForce GTX 1080 Ti DirectX 12 GV-N108TAORUS X-11GD 11GB 352-Bit GDDR5X PCI Express 3.0 x16 ATX Xtreme Edition Video Card\n",
      "Shipping$4.99 Shipping\n",
      "Brand:GIGABYTE\n",
      "Product Name:GIGABYTE GeForce GTX 1060 DirectX 12 GV-N1060WF2OC-6GD 6GB 192-Bit GDDR5 PCI Express 3.0 x16 ATX Video Card\n",
      "Shipping$4.99 Shipping\n",
      "Brand:GIGABYTE\n",
      "Product Name:GIGABYTE GeForce GTX 1080 Ti DirectX 12 GV-N108TGAMING OC-11GD 11GB 352-Bit GDDR5X PCI Express 3.0 x16 ATX Video Card\n",
      "Shipping$4.99 Shipping\n",
      "Brand:MSI\n",
      "Product Name:MSI GeForce GTX 1080 DirectX 12 GTX 1080 SEA HAWK EK X 8GB 256-Bit GDDR5X PCI Express 3.0 x16 HDCP Ready SLI Support ATX Video Card\n",
      "Shipping$4.99 Shipping\n",
      "Brand:MSI\n",
      "Product Name:MSI GeForce GTX 1070 DirectX 12 GTX 1070 GAMING X 8G 8GB 256-Bit GDDR5 PCI Express 3.0 x16 HDCP Ready SLI Support ATX Video Card\n",
      "Shipping$4.99 Shipping\n",
      "Brand:EVGA\n",
      "Product Name:EVGA GeForce GTX 1070 Ti DirectX 12 08G-P4-5671-KR 8GB 256-Bit GDDR5 PCI Express 3.0 SLI Support Video Card\n",
      "ShippingFree Shipping\n",
      "Brand:EVGA\n",
      "Product Name:EVGA GeForce GTX 1070 Ti  DirectX 12 08G-P4-6775-KR Video Card \n",
      "Shipping$4.99 Shipping\n",
      "Brand:GIGABYTE\n",
      "Product Name:GIGABYTE AORUS GeForce GTX 1080 Ti DirectX 12 GV-N108TAORUS-11GD 11GB 352-Bit GDDR5X PCI Express 3.0 x16 SLI Support ATX Video Card\n",
      "Shipping$4.99 Shipping\n",
      "Brand:MSI\n",
      "Product Name:MSI Radeon RX 580 DirectX 12 RX 580 GAMING X 4G 4GB 256-Bit GDDR5 PCI Express 3.0 x16 HDCP Ready CrossFireX Support Video Card\n",
      "Shipping$4.99 Shipping\n",
      "Brand:GIGABYTE\n",
      "Product Name:GIGABYTE GeForce GTX 1070 DirectX 12 GV-N1070G1 GAMING-8GD R2 256-Bit GDDR5 PCI Express 3.0 x16 SLI Support ATX Video Card\n",
      "Shipping$4.99 Shipping\n",
      "Brand:MSI\n",
      "Product Name:MSI GeForce GTX 1070 DirectX 12 GTX 1070 GAMING 8G 8GB 256-Bit GDDR5 PCI Express 3.0 x16 HDCP Ready SLI Support ATX Video Card\n",
      "Shipping$3.99 Shipping\n",
      "Brand:GIGABYTE\n",
      "Product Name:GIGABYTE GeForce GTX 1060 Mini ITX OC 3GB GV-N1060IXOC-3GD Video Card\n",
      "Shipping$4.99 Shipping\n",
      "Brand:EVGA\n",
      "Product Name:EVGA GeForce GTX 1080 Ti FTW3 DT DirectX 12 11G-P4-6694-KR 11GB 352-Bit GDDR5X PCI Express 3.0 HDCP Ready SLI Support Video Card\n",
      "Shipping$4.99 Shipping\n",
      "Brand:PowerColor\n",
      "Product Name:PowerColor RED DRAGON Radeon RX 580 DirectX 12 AXRX 580 8GBD5-3DHDV2/OC 8GB 256-Bit GDDR5 PCI Express 3.0 CrossFireX Support ATX Video Card\n",
      "Shipping$3.99 Shipping\n",
      "Brand:ZOTAC\n",
      "Product Name:ZOTAC GeForce GTX 1080 Ti ArcticStorm 11GB GDDR5X 352-bit PCIE 3.0 Gaming Graphics Card VR Ready 16+2 Power Phase Spectra Lighting Metal Wraparound Backplate ZT-P10810E-30P\n",
      "Shipping$4.99 Shipping\n",
      "Brand:MSI\n",
      "Product Name:MSI GeForce GTX 1080 Ti DirectX 12 GTX 1080 Ti SEA HAWK X 11GB 352-Bit GDDR5X PCI Express 3.0 x16 HDCP Ready SLI Support Video Card\n",
      "Shipping$4.99 Shipping\n",
      "Brand:ASUS\n",
      "Product Name:ASUS GeForce GTX 1060 DUAL-GTX1060-O6G 6GB 192-Bit GDDR5 PCI Express 3.0 HDCP Ready Video Card\n",
      "Shipping$4.99 Shipping\n",
      "Brand:MSI\n",
      "Product Name:MSI GeForce GTX 1080 Ti DirectX 12 GeForce GTX 1080 Ti GAMING X 11G 11GB 352-Bit GDDR5X PCI Express 3.0 x16 HDCP Ready SLI Support Video Card\n",
      "Shipping$4.99 Shipping\n",
      "Brand:ASUS\n",
      "Product Name:ASUS ROG GeForce GTX 1060 STRIX-GTX1060-6G-GAMING 6GB 192-Bit GDDR5 PCI Express 3.0 HDCP Ready Video Card\n",
      "Shipping$4.99 Shipping\n",
      "Brand:GIGABYTE\n",
      "Product Name:GIGABYTE GeForce GTX 1060 DirectX 12 GV-N1060D5-6GD REV2 6GB 192-Bit GDDR5 PCI Express 3.0 x16 ATX Video Card\n",
      "Shipping$4.99 Shipping\n",
      "Brand:GIGABYTE\n",
      "Product Name:GIGABYTE GeForce GTX 1080 G1 Gaming GV-N1080G1 GAMING-8GD Video Card\n",
      "Shipping$4.99 Shipping\n",
      "Brand:Sapphire Tech\n",
      "Product Name:SAPPHIRE Radeon RX VEGA 64 DirectX 12 100410LEL 8GB 2048-Bit HBM2 HDMI / TRIPLE DP Limited Edition (UEFI) PCI Express 3.0 CrossFireX Support ATX Video Card \n",
      "Shipping$4.99 Shipping\n",
      "Brand:ZOTAC\n",
      "Product Name:ZOTAC GeForce GTX 1070 Mini, ZT-P10700G-10M, 8GB GDDR5\n",
      "Shipping$4.99 Shipping\n"
     ]
    }
   ],
   "source": [
    "filename = \"products.csv\"\n",
    "\n",
    "f = open(filename,\"w\")\n",
    "\n",
    "headers = \"brand,product_name,shipping\\n\"\n",
    "\n",
    "f.write(headers)\n",
    "\n",
    "for container in containers:\n",
    "    brand = container.div.div.a.img[\"title\"]\n",
    "    \n",
    "    title_container = container.findAll(\"a\",{\"class\":\"item-title\"})\n",
    "    product_name = title_container[0].text\n",
    "    \n",
    "    shipping_container = container.findAll(\"li\",{\"class\":\"price-ship\"})\n",
    "    shipping = shipping_container[0].text.strip()\n",
    "    \n",
    "    print(\"Brand:\" + brand)\n",
    "    print(\"Product Name:\" + product_name)\n",
    "    print(\"Shipping\" + shipping )\n",
    "    \n",
    "    f.write(brand +\",\"+ product_name.replace(\",\",\"|\") +\",\"+ shipping + \"\\n\")\n",
    "f.close()"
   ]
  },
  {
   "cell_type": "code",
   "execution_count": 22,
   "metadata": {
    "collapsed": false
   },
   "outputs": [],
   "source": [
    "#title_container = container.findAll(\"a\",{\"class\":\"item-title\"})"
   ]
  },
  {
   "cell_type": "code",
   "execution_count": 25,
   "metadata": {
    "collapsed": false
   },
   "outputs": [
    {
     "data": {
      "text/plain": [
       "'MSI Radeon RX 580 DirectX 12 RX 580 GAMING X 8G 8GB 256-Bit GDDR5 PCI Express 3.0 x16 HDCP Ready CrossFireX Support Video Card'"
      ]
     },
     "execution_count": 25,
     "metadata": {},
     "output_type": "execute_result"
    }
   ],
   "source": [
    "#title_container[0].text"
   ]
  },
  {
   "cell_type": "code",
   "execution_count": 29,
   "metadata": {
    "collapsed": false
   },
   "outputs": [],
   "source": [
    "#shipping_container = container.findAll(\"li\",{\"class\":\"price-ship\"})"
   ]
  },
  {
   "cell_type": "code",
   "execution_count": 30,
   "metadata": {
    "collapsed": false
   },
   "outputs": [
    {
     "data": {
      "text/plain": [
       "[<li class=\"price-ship\">\n",
       "         $4.99 Shipping\n",
       "     </li>]"
      ]
     },
     "execution_count": 30,
     "metadata": {},
     "output_type": "execute_result"
    }
   ],
   "source": [
    "#shipping_container"
   ]
  },
  {
   "cell_type": "code",
   "execution_count": null,
   "metadata": {
    "collapsed": true
   },
   "outputs": [],
   "source": []
  }
 ],
 "metadata": {
  "anaconda-cloud": {},
  "kernelspec": {
   "display_name": "Python [conda root]",
   "language": "python",
   "name": "conda-root-py"
  },
  "language_info": {
   "codemirror_mode": {
    "name": "ipython",
    "version": 3
   },
   "file_extension": ".py",
   "mimetype": "text/x-python",
   "name": "python",
   "nbconvert_exporter": "python",
   "pygments_lexer": "ipython3",
   "version": "3.5.4"
  }
 },
 "nbformat": 4,
 "nbformat_minor": 1
}
